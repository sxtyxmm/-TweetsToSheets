{
 "cells": [
  {
   "cell_type": "code",
   "execution_count": null,
   "metadata": {},
   "outputs": [],
   "source": [
    "import pandas as pd\n",
    "import gspread\n",
    "import os\n",
    "import requests\n",
    "\n",
    "from oauth2client.service_account import ServiceAccountCredentials"
   ]
  },
  {
   "cell_type": "code",
   "execution_count": null,
   "metadata": {},
   "outputs": [],
   "source": [
    "def connect_to_twitter():\n",
    "    bearer_token = os.environ.get(\"BEARER_TOKEN\")\n",
    "    return {\"Authorization\": \"Bearer {}\".format(bearer_token)}"
   ]
  },
  {
   "cell_type": "code",
   "execution_count": null,
   "metadata": {},
   "outputs": [],
   "source": [
    "headers = connect_to_twitter()"
   ]
  },
  {
   "cell_type": "code",
   "execution_count": null,
   "metadata": {},
   "outputs": [],
   "source": [
    "def make_request(headers):\n",
    "    url = \"https://api.twitter.com/2/users/2244994945/tweets\"\n",
    "    params = {\n",
    "        \"tweet.fields\": \"created_at,lang\",\n",
    "        \"max_results\": \"100\"\n",
    "    }\n",
    "    return requests.request(\"GET\", url, headers=headers, params=params).json()"
   ]
  },
  {
   "cell_type": "code",
   "execution_count": null,
   "metadata": {},
   "outputs": [],
   "source": [
    "response = make_request(headers)\n",
    "print(response)"
   ]
  },
  {
   "cell_type": "code",
   "execution_count": null,
   "metadata": {},
   "outputs": [],
   "source": [
    "def make_df(response):\n",
    "    return pd.DataFrame(response[\"data\"])"
   ]
  },
  {
   "cell_type": "code",
   "execution_count": null,
   "metadata": {},
   "outputs": [],
   "source": [
    "df = make_df(response)"
   ]
  },
  {
   "cell_type": "code",
   "execution_count": null,
   "metadata": {},
   "outputs": [],
   "source": [
    "def authenticate_to_google():\n",
    "    scope = [\n",
    "        \"https://spreadsheets.google.com/feeds\"\n",
    "    ]\n",
    "    credentials = ServiceAccountCredentials.from_json_keyfile_name(\n",
    "        \"Downloads/cred_new.json\", scope\n",
    "    )\n",
    "    return credentials"
   ]
  },
  {
   "cell_type": "code",
   "execution_count": null,
   "metadata": {},
   "outputs": [],
   "source": [
    "credentials = authenticate_to_google()\n",
    "gc = gspread.authorize(credentials)\n",
    "workbook = gc.open_by_key(\"1xxuZ3hhcqCOqYmJaMckZ3mvBOkBzjNZYjBiMpIzg9Ug\")\n",
    "sheet = workbook.worksheet(\"Testing\")\n",
    "sheet.update(\"A1\", [df.columns.values.tolist()] + df.values.tolist())"
   ]
  }
 ],
 "metadata": {
  "language_info": {
   "name": "python"
  }
 },
 "nbformat": 4,
 "nbformat_minor": 2
}
